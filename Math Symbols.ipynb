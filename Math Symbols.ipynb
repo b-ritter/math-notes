{
 "cells": [
  {
   "cell_type": "markdown",
   "metadata": {},
   "source": [
    "# Math Symbols\n",
    "\n",
    "|Symbol|Latex|Meaning|        \n",
    "| ---| --- | --- |\n",
    "| $\\vec{x}$|`\\vec{x}`|vector|\n",
    "| $\\lVert\\vec{x}\\rVert$|`\\lVert\\vec{x}\\rVert`|vector|\n",
    "| $\\begin{bmatrix}\n",
    "    w & x \\\\ y & z\\end{bmatrix}$ | `\\begin{bmatrix}w & x \\\\ y & z\\end{bmatrix}`| matrix notation |\n",
    "|$\\begin{bmatrix}\n",
    "    w & x \\\\ y & z\n",
    "  \\end{bmatrix}\n",
    "  \\odot\n",
    "  \\begin{bmatrix}\n",
    "    a & b \\\\ c & d\n",
    "  \\end{bmatrix}\n",
    "  $|`\\odot`|Hadamard product (element-wise multiplication)|\n",
    "|<img width=750/>|<img width=750/>|<img width=750/>|"
   ]
  },
  {
   "cell_type": "code",
   "execution_count": null,
   "metadata": {},
   "outputs": [],
   "source": []
  }
 ],
 "metadata": {
  "kernelspec": {
   "display_name": "Python 3",
   "language": "python",
   "name": "python3"
  },
  "language_info": {
   "codemirror_mode": {
    "name": "ipython",
    "version": 3
   },
   "file_extension": ".py",
   "mimetype": "text/x-python",
   "name": "python",
   "nbconvert_exporter": "python",
   "pygments_lexer": "ipython3",
   "version": "3.6.5"
  }
 },
 "nbformat": 4,
 "nbformat_minor": 2
}
